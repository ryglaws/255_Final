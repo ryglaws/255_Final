{
 "cells": [
  {
   "cell_type": "markdown",
   "metadata": {},
   "source": [
    "\n",
    "\n",
    "# 1. Install packages"
   ]
  },
  {
   "cell_type": "code",
   "execution_count": null,
   "metadata": {},
   "outputs": [],
   "source": [
    "!pip install geopandas --upgrade pip\n",
    "!pip install geopy --upgrade pip"
   ]
  },
  {
   "cell_type": "code",
   "execution_count": null,
   "metadata": {},
   "outputs": [],
   "source": [
    "import geopy\n",
    "import geopandas\n",
    "import pandas as pd\n",
    "!pip install osmnx"
   ]
  },
  {
   "cell_type": "markdown",
   "metadata": {},
   "source": [
    "# 2. Load datasets"
   ]
  },
  {
   "cell_type": "markdown",
   "metadata": {},
   "source": [
    "# # Opioid Data at the Zip Code Level\n",
    "There are data for deaths, ED visits, hospitalizations, and prescriptions\n",
    "\n",
    "3/4 - Need to merge the dataframes."
   ]
  },
  {
   "cell_type": "code",
   "execution_count": null,
   "metadata": {},
   "outputs": [],
   "source": [
    "# 4!!\n",
    "\n",
    "# import opioid death data\n",
    "opdeath18_data = pd.read_csv(\"https://www.dropbox.com/s/iblpnv70nhsyrok/Death_SanFrancisco_AnyOpioid_2018.csv?dl=1\")\n",
    "    \n",
    "opdeath18_data.rename(columns = {'San Francisco Deaths - 2018' : 'Zip Code',\n",
    "                            'Unnamed: 1': 'Death Rates', \n",
    "                             'Unnamed: 2': 'Death 95% LCL', \n",
    "                             'Unnamed: 3' : 'Death 95% UCL'}, inplace=True)\n",
    "#preview the data\n",
    "opdeath18_data.head()"
   ]
  },
  {
   "cell_type": "code",
   "execution_count": null,
   "metadata": {},
   "outputs": [],
   "source": [
    "#cut out the top two rows bc they are metadata\n",
    "opdeath18cln = opdeath18_data.drop(opdeath18_data.index[[0,1,29,30,31,32]])"
   ]
  },
  {
   "cell_type": "code",
   "execution_count": null,
   "metadata": {},
   "outputs": [],
   "source": [
    "print(opdeath18cln)"
   ]
  },
  {
   "cell_type": "code",
   "execution_count": null,
   "metadata": {},
   "outputs": [],
   "source": [
    "# 5!! CA Opioid data\n",
    "\n",
    "#Import the opioid ED Visit 2018 data\n",
    "\n",
    "oped18_data = pd.read_csv(\"https://www.dropbox.com/s/1a8v10nnam0788j/EdVisit_SanFrancisco_AnyOpioid_2018.csv?dl=1\")\n",
    "\n",
    "oped18_data.rename(columns = {'San Francisco ED Visits - 2018' : 'Zip Code',\n",
    "                            'Unnamed: 1': 'ED Rates', \n",
    "                             'Unnamed: 2': 'ED 95% LCL', \n",
    "                             'Unnamed: 3' : 'ED 95% UCL'}, inplace=True)\n",
    "\n",
    "#preview the data\n",
    "oped18_data.head()"
   ]
  },
  {
   "cell_type": "code",
   "execution_count": null,
   "metadata": {},
   "outputs": [],
   "source": [
    "#drop rows 0 and 1, which are metadata \n",
    "oped18cln = oped18_data.drop(oped18_data.index[[0,1,29,30,31,32]])"
   ]
  },
  {
   "cell_type": "code",
   "execution_count": null,
   "metadata": {},
   "outputs": [],
   "source": [
    "oped18cln.describe()"
   ]
  },
  {
   "cell_type": "code",
   "execution_count": null,
   "metadata": {},
   "outputs": [],
   "source": [
    "# 6!!\n",
    "\n",
    "#Import the opioid Hospitilization 2018 data\n",
    "\n",
    "Ophosp18_data = pd.read_csv(\"https://www.dropbox.com/s/0rcfdjy3lg40gqq/Hospit_SanFrancisco_AnyOpioid_2018.csv?dl=1\")\n",
    "Ophosp18_data.rename(columns = {'San Francisco Hospitalizations - 2018': 'Zip Code',  \n",
    "                            'Unnamed: 1': 'Hosp Rates', \n",
    "                             'Unnamed: 2': 'Hosp 95% LCL', \n",
    "                             'Unnamed: 3' : 'Hosp 95% UCL'}, inplace=True)\n",
    "\n",
    "#preview the data\n",
    "Ophosp18_data.head()"
   ]
  },
  {
   "cell_type": "code",
   "execution_count": null,
   "metadata": {},
   "outputs": [],
   "source": []
  },
  {
   "cell_type": "code",
   "execution_count": null,
   "metadata": {},
   "outputs": [],
   "source": []
  },
  {
   "cell_type": "markdown",
   "metadata": {},
   "source": [
    "# 3. Geocode the addresses to facilities\n"
   ]
  },
  {
   "cell_type": "code",
   "execution_count": null,
   "metadata": {},
   "outputs": [],
   "source": [
    "locator = geopy.geocoders.Nominatim(user_agent='myGeocoder')"
   ]
  },
  {
   "cell_type": "code",
   "execution_count": null,
   "metadata": {},
   "outputs": [],
   "source": [
    "df = pd.read_csv('https://raw.githubusercontent.com/ryglaws/255_Final/master/Facilities_Folium_4.16.csv')\n",
    "df.head()"
   ]
  },
  {
   "cell_type": "code",
   "execution_count": null,
   "metadata": {},
   "outputs": [],
   "source": [
    "from geopy.extra.rate_limiter import RateLimiter"
   ]
  },
  {
   "cell_type": "code",
   "execution_count": null,
   "metadata": {},
   "outputs": [],
   "source": [
    "# 1 - conveneint function to delay between geocoding calls\n",
    "geocode = RateLimiter(locator.geocode, min_delay_seconds=1)\n",
    "# 2- - create location column\n",
    "df['geocode'] = df['location'].apply(geocode)\n",
    "# 3 - create longitude, laatitude and altitude from location column (returns tuple)\n",
    "df['point'] = df['geocode'].apply(lambda loc: tuple(loc.point) if loc else None)\n",
    "# 4 - split point column into latitude, longitude and altitude columns\n",
    "df[['latitude', 'longitude', 'altitude']] = pd.DataFrame(df['point'].tolist(), index=df.index)"
   ]
  },
  {
   "cell_type": "code",
   "execution_count": null,
   "metadata": {},
   "outputs": [],
   "source": [
    "df.isnull()"
   ]
  },
  {
   "cell_type": "code",
   "execution_count": null,
   "metadata": {},
   "outputs": [],
   "source": [
    "# Drop rows with NaN or missing value in all columns\n",
    "facilities = df.dropna()"
   ]
  },
  {
   "cell_type": "code",
   "execution_count": null,
   "metadata": {},
   "outputs": [],
   "source": [
    "facilities.head(140)"
   ]
  },
  {
   "cell_type": "code",
   "execution_count": null,
   "metadata": {},
   "outputs": [],
   "source": [
    "# Isolate the drugstores\n",
    "\n",
    "drug_store = facilities.loc[facilities.facility_type=='Drug Store']\n",
    "drug_store.head(140)"
   ]
  },
  {
   "cell_type": "code",
   "execution_count": null,
   "metadata": {},
   "outputs": [],
   "source": [
    "# Isolate the healthcare facilities\n",
    "\n",
    "health_care=facilities.loc[facilities.facility_type!='Drug Store']\n",
    "health_care.head(140)"
   ]
  },
  {
   "cell_type": "markdown",
   "metadata": {},
   "source": [
    "# 4. Sort facilities by zip code\n"
   ]
  },
  {
   "cell_type": "code",
   "execution_count": null,
   "metadata": {},
   "outputs": [],
   "source": [
    "import numpy as np\n",
    "# Set zipcode type to string (folium)\n",
    "facilities['zip'] = facilities['zip'].astype('str')\n",
    "# get the mean value across all data points\n",
    "zipcode_data = facilities.groupby('zip').aggregate(np.mean)\n",
    "zipcode_data.reset_index(inplace = True)"
   ]
  },
  {
   "cell_type": "code",
   "execution_count": null,
   "metadata": {},
   "outputs": [],
   "source": [
    "# count number of faclities grouped by zipcode\n",
    "facilities['count'] = 1\n",
    "temp = facilities.groupby('zip').sum()\n",
    "temp.reset_index(inplace = True)\n",
    "temp = temp[['zip', 'count']]\n",
    "zipcode_data = pd.merge(zipcode_data, temp, on='zip')\n",
    "# drop count from org dataset\n",
    "facilities.drop(['count'], axis = 1, inplace = True)"
   ]
  },
  {
   "cell_type": "code",
   "execution_count": null,
   "metadata": {},
   "outputs": [],
   "source": [
    "temp.head(55)"
   ]
  },
  {
   "cell_type": "code",
   "execution_count": null,
   "metadata": {},
   "outputs": [],
   "source": [
    "temp.dtypes"
   ]
  },
  {
   "cell_type": "code",
   "execution_count": null,
   "metadata": {},
   "outputs": [],
   "source": []
  },
  {
   "cell_type": "code",
   "execution_count": null,
   "metadata": {},
   "outputs": [],
   "source": []
  },
  {
   "cell_type": "markdown",
   "metadata": {},
   "source": [
    "# 4. Map the facilities\n"
   ]
  },
  {
   "cell_type": "code",
   "execution_count": 1,
   "metadata": {},
   "outputs": [
    {
     "name": "stdout",
     "output_type": "stream",
     "text": [
      "Requirement already satisfied: folium in /srv/app/venv/lib/python3.6/site-packages\n",
      "Requirement already satisfied: branca>=0.3.0 in /srv/app/venv/lib/python3.6/site-packages (from folium)\n",
      "Requirement already satisfied: numpy in /srv/app/venv/lib/python3.6/site-packages (from folium)\n",
      "Requirement already satisfied: jinja2>=2.9 in /srv/app/venv/lib/python3.6/site-packages (from folium)\n",
      "Requirement already satisfied: requests in /srv/app/venv/lib/python3.6/site-packages (from folium)\n",
      "Requirement already satisfied: six in /srv/app/venv/lib/python3.6/site-packages (from branca>=0.3.0->folium)\n",
      "Requirement already satisfied: MarkupSafe>=0.23 in /srv/app/venv/lib/python3.6/site-packages (from jinja2>=2.9->folium)\n",
      "Requirement already satisfied: chardet<3.1.0,>=3.0.2 in /srv/app/venv/lib/python3.6/site-packages (from requests->folium)\n",
      "Requirement already satisfied: certifi>=2017.4.17 in /srv/app/venv/lib/python3.6/site-packages (from requests->folium)\n",
      "Requirement already satisfied: urllib3<1.25,>=1.21.1 in /srv/app/venv/lib/python3.6/site-packages (from requests->folium)\n",
      "Requirement already satisfied: idna<2.9,>=2.5 in /srv/app/venv/lib/python3.6/site-packages (from requests->folium)\n",
      "\u001b[33mYou are using pip version 9.0.3, however version 20.1 is available.\n",
      "You should consider upgrading via the 'pip install --upgrade pip' command.\u001b[0m\n"
     ]
    }
   ],
   "source": [
    "! pip install folium\n",
    "import folium"
   ]
  },
  {
   "cell_type": "code",
   "execution_count": null,
   "metadata": {},
   "outputs": [],
   "source": [
    "map1 = folium.Map(\n",
    "    location=[37.764,-122.4194],\n",
    "    tiles='cartodbpositron',\n",
    "    zoom_start=12,\n",
    ")\n",
    "facilities.apply(lambda row:folium.Marker(location=[row[\"latitude\"], row[\"longitude\"]], \n",
    "popup=(row[\"facility_name\"])).add_to(map1), axis=1)\n",
    "map1"
   ]
  },
  {
   "cell_type": "code",
   "execution_count": null,
   "metadata": {},
   "outputs": [],
   "source": [
    "\n",
    "from folium.plugins import FastMarkerCluster\n",
    "\n",
    "folium_map = folium.Map(\n",
    "    location=[37.764,-122.4194],\n",
    "    tiles='cartodbpositron',\n",
    "    zoom_start=12,\n",
    ")\n",
    "\n",
    "FastMarkerCluster(data=list(zip(facilities['latitude'].values, facilities['longitude'].values))).add_to(folium_map)\n",
    "folium.LayerControl().add_to(folium_map)\n",
    "folium_map"
   ]
  },
  {
   "cell_type": "markdown",
   "metadata": {},
   "source": [
    "# 5. Add SF Zipcodes"
   ]
  },
  {
   "cell_type": "code",
   "execution_count": null,
   "metadata": {},
   "outputs": [],
   "source": [
    "import json\n",
    "from folium import plugins\n",
    "with open('BayAreaZIPCodes.geojson') as Json:\n",
    "    data = json.load(Json)\n",
    "zipson = data"
   ]
  },
  {
   "cell_type": "code",
   "execution_count": null,
   "metadata": {},
   "outputs": [],
   "source": [
    "print(zipson)"
   ]
  },
  {
   "cell_type": "code",
   "execution_count": null,
   "metadata": {},
   "outputs": [],
   "source": [
    "# remove ZIP codes not in geo data\n",
    "geozips = []\n",
    "for i in range(len(zipson['features'])):\n",
    "    if zipson['features'][i]['properties']['zip'] in list(zipcode_data['zip'].unique()):\n",
    "        geozips.append(zipson['features'][i])\n",
    "# creating new JSON object\n",
    "new_json = dict.fromkeys(['type','features'])\n",
    "new_json['type'] = 'FeatureCollection'\n",
    "new_json['features'] = geozips\n",
    "# save uodated JSON object\n",
    "open(\"cleaned_geodata.json\", \"w\").write(json.dumps(new_json, sort_keys=True, indent=4, separators=(',', ': ')))"
   ]
  },
  {
   "cell_type": "code",
   "execution_count": null,
   "metadata": {},
   "outputs": [],
   "source": [
    "zipcode_data.head()"
   ]
  },
  {
   "cell_type": "code",
   "execution_count": null,
   "metadata": {},
   "outputs": [],
   "source": [
    "from folium.plugins import MarkerCluster\n",
    "    # read updated geo data\n",
    "sf_geo = \"cleaned_geodata.json\"\n",
    "\n",
    "    # Initialize Folium Map with Seattle latitude and longitude\n",
    "    #m = folium.Map(location=[37.764,-122.4194], zoom_start=12,\n",
    "                   #detect_retina=True, control_scale=False)\n",
    "    \n",
    "choromap = folium.Map(location=[37.764,-122.4194],\n",
    "                      tiles='cartodbpositron',\n",
    "                      zoom_start=12)\n",
    "\n",
    "    # Create choropleth map\n",
    "choromap.choropleth(\n",
    "    geo_data=sf_geo,\n",
    "    name='choropleth',\n",
    "    data=zipcode_data,\n",
    "    # col: feature of interest\n",
    "    columns=['zip', 'count'],\n",
    "    key_on='feature.properties.zip',\n",
    "    fill_color='BuPu',\n",
    "    fill_opacity=0.7,\n",
    "    line_opacity=0.2,\n",
    "    legend_name='Number of Facilities by Zipcode')\n",
    "\n",
    "    #folium.LayerControl().add_to(choromap)\n",
    "    \n",
    "    #Add marker clusters\n",
    "FastMarkerCluster(data=list(zip(facilities['latitude'].values, facilities['longitude'].values))).add_to(choromap)\n",
    "folium.LayerControl().add_to(choromap)\n",
    " \n",
    "# now, all the markers should be directed to this objects as follows: folium.Marker(...).add_to(marker_cluster)\n",
    "\n",
    "    # Save map based on feature of interest\n",
    "    #m.save(col + '.html')\n",
    "\n",
    "    #return m\n",
    "choromap"
   ]
  },
  {
   "cell_type": "code",
   "execution_count": null,
   "metadata": {},
   "outputs": [],
   "source": [
    "import numpy as np\n",
    "\n",
    "# Set zipcode type to string (folium)\n",
    "drug_store['zip'] = drug_store['zip'].astype('str')\n",
    "# get the mean value across all data points\n",
    "zipcode_data2 = drug_store.groupby('zip').aggregate(np.mean)\n",
    "zipcode_data2.reset_index(inplace = True)"
   ]
  },
  {
   "cell_type": "code",
   "execution_count": null,
   "metadata": {},
   "outputs": [],
   "source": [
    "# count number of drug stores grouped by zipcode\n",
    "drug_store['count'] = 1\n",
    "temp2 = drug_store.groupby('zip').sum()\n",
    "temp2.reset_index(inplace = True)\n",
    "temp2 = temp2[['zip', 'count']]\n",
    "zipcode_data2 = pd.merge(zipcode_data2, temp2, on='zip')\n",
    "# drop count from org dataset\n",
    "drug_store.drop(['count'], axis = 1, inplace = True)"
   ]
  },
  {
   "cell_type": "code",
   "execution_count": null,
   "metadata": {},
   "outputs": [],
   "source": [
    "# Map of drug stores\n",
    "\n",
    "choromap2 = folium.Map(location=[37.764,-122.4194],\n",
    "                      tiles='cartodbpositron',\n",
    "                      zoom_start=12)\n",
    "\n",
    "    # Create choropleth map\n",
    "choromap2.choropleth(\n",
    "    geo_data=sf_geo,\n",
    "    name='choropleth',\n",
    "    data=zipcode_data2,\n",
    "    # col: feature of interest\n",
    "    columns=['zip', 'count'],\n",
    "    key_on='feature.properties.zip',\n",
    "    fill_color='BuPu',\n",
    "    fill_opacity=0.7,\n",
    "    line_opacity=0.2,\n",
    "    legend_name='Number of Drug Stores by Zipcode')# Can we set the polygons to zip codes?\n",
    "\n",
    "cluster_map = folium.Map(\n",
    "    location=[37.764,-122.4194],\n",
    "    tiles='cartodbpositron',\n",
    "    zoom_start=12,\n",
    ")\n",
    "\n",
    "FastMarkerCluster(data=list(zip(drug_store['latitude'].values, drug_store['longitude'].values))).add_to(choromap2)\n",
    "folium.LayerControl().add_to(choromap2)\n",
    "\n",
    "choromap2"
   ]
  },
  {
   "cell_type": "code",
   "execution_count": null,
   "metadata": {},
   "outputs": [],
   "source": [
    "import numpy as np\n",
    "\n",
    "# Set zipcode type to string (folium)\n",
    "health_care['zip'] = health_care['zip'].astype('str')\n",
    "# get the mean value across all data points\n",
    "zipcode_data3 = health_care.groupby('zip').aggregate(np.mean)\n",
    "zipcode_data3.reset_index(inplace = True)"
   ]
  },
  {
   "cell_type": "code",
   "execution_count": null,
   "metadata": {},
   "outputs": [],
   "source": [
    "# count number of health centers grouped by zipcode\n",
    "health_care['count'] = 1\n",
    "temp3 = health_care.groupby('zip').sum()\n",
    "temp3.reset_index(inplace = True)\n",
    "temp3 = temp3[['zip', 'count']]\n",
    "zipcode_data3 = pd.merge(zipcode_data3, temp3, on='zip')\n",
    "# drop count from org dataset\n",
    "health_care.drop(['count'], axis = 1, inplace = True)"
   ]
  },
  {
   "cell_type": "code",
   "execution_count": null,
   "metadata": {},
   "outputs": [],
   "source": [
    "#Map of Health Centers\n",
    "\n",
    "choromap3 = folium.Map(location=[37.764,-122.4194],\n",
    "                      tiles='cartodbpositron',\n",
    "                      zoom_start=12)\n",
    "\n",
    "    # Create choropleth map\n",
    "choromap3.choropleth(\n",
    "    geo_data=sf_geo,\n",
    "    name='choropleth',\n",
    "    data=zipcode_data3,\n",
    "    # col: feature of interest\n",
    "    columns=['zip', 'count'],\n",
    "    key_on='feature.properties.zip',\n",
    "    fill_color='BuPu',\n",
    "    fill_opacity=0.7,\n",
    "    line_opacity=0.2,\n",
    "    legend_name='Number of Healthcare Facilities by Zipcode')# Can we set the polygons to zip codes?\n",
    "\n",
    "cluster_map = folium.Map(\n",
    "    location=[37.764,-122.4194],\n",
    "    tiles='cartodbpositron',\n",
    "    zoom_start=12,\n",
    ")\n",
    "\n",
    "FastMarkerCluster(data=list(zip(health_care['latitude'].values, health_care['longitude'].values))).add_to(choromap3)\n",
    "folium.LayerControl().add_to(choromap3)\n",
    "\n",
    "choromap3"
   ]
  },
  {
   "cell_type": "code",
   "execution_count": null,
   "metadata": {},
   "outputs": [],
   "source": [
    "%%capture\n",
    "!pip install plotly --upgrade"
   ]
  },
  {
   "cell_type": "code",
   "execution_count": null,
   "metadata": {},
   "outputs": [],
   "source": [
    "import plotly\n",
    "plotly.__version__"
   ]
  },
  {
   "cell_type": "code",
   "execution_count": null,
   "metadata": {},
   "outputs": [],
   "source": [
    "import plotly.express as px"
   ]
  },
  {
   "cell_type": "code",
   "execution_count": null,
   "metadata": {},
   "outputs": [],
   "source": [
    "# First try with a simple popup\n",
    "\n",
    "map3 = folium.Map(\n",
    "    location=[37.764,-122.4194],\n",
    "    tiles='cartodbpositron',\n",
    "    zoom_start=12,\n",
    ")\n",
    "\n",
    "tooltip = 'Click me!'\n",
    "    \n",
    "health_care.apply(lambda row:folium.Marker(\n",
    "    location=[row[\"latitude\"], row[\"longitude\"]],\n",
    "    popup=(row['facility_name'],\n",
    "           row['location']),\n",
    "    icon=folium.Icon(color='red'),\n",
    "    tooltip=tooltip\n",
    ").add_to(map3), axis=1)\n",
    "\n",
    "drug_store.apply(lambda row:folium.Marker(\n",
    "    location=[row[\"latitude\"], row[\"longitude\"]],\n",
    "    popup=(row['facility_name'],  \n",
    "           row['location']),\n",
    "    icon=folium.Icon(color='green'),\n",
    "    tooltip=tooltip\n",
    ").add_to(map3), axis=1)\n",
    "\n",
    "from folium.plugins import FloatImage\n",
    "image_file = 'https://raw.githubusercontent.com/ryglaws/255_Final/master/Legend2.png'\n",
    "\n",
    "FloatImage(image_file, bottom=2.5, left=85).add_to(map3)\n",
    "map3"
   ]
  },
  {
   "cell_type": "code",
   "execution_count": null,
   "metadata": {},
   "outputs": [],
   "source": [
    "map3.save(outfile='facilitiesmap.html')"
   ]
  },
  {
   "cell_type": "code",
   "execution_count": null,
   "metadata": {},
   "outputs": [],
   "source": []
  },
  {
   "cell_type": "code",
   "execution_count": null,
   "metadata": {},
   "outputs": [],
   "source": []
  }
 ],
 "metadata": {
  "kernelspec": {
   "display_name": "Python 3",
   "language": "python",
   "name": "python3"
  },
  "language_info": {
   "codemirror_mode": {
    "name": "ipython",
    "version": 3
   },
   "file_extension": ".py",
   "mimetype": "text/x-python",
   "name": "python",
   "nbconvert_exporter": "python",
   "pygments_lexer": "ipython3",
   "version": "3.6.9"
  }
 },
 "nbformat": 4,
 "nbformat_minor": 4
}
